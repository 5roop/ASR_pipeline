{
 "cells": [
  {
   "cell_type": "code",
   "execution_count": null,
   "metadata": {},
   "outputs": [],
   "source": [
    "from pathlib import Path\n",
    "from pydub import AudioSegment\n",
    "from utils import read_rttm\n",
    "from os import environ\n",
    "environ[\"CUDA_VISIBLE_DEVICES\"] = \"7\"\n",
    "idx = 0\n",
    "min_length_seconds = 0.1\n",
    "\n",
    "audio_path = Path(f\"data/audio_16khz_mono_wav/{idx}.wav\")\n",
    "diarization_path = Path(f\"data/diarization/{idx}.rttm\")\n",
    "diarization_df = read_rttm(diarization_path)\n",
    "diarization_df[\"duration\"] = diarization_df.end - diarization_df.start\n",
    "\n",
    "\n",
    "tempdir = Path(\"./temp_files\")\n",
    "tempdir.mkdir(exist_ok=True)\n",
    "\n",
    "audio = AudioSegment.from_wav(audio_path)\n",
    "filenames = []\n",
    "for i, row in diarization_df.iterrows():\n",
    "    filename = audio_path.with_suffix(\"\").name + f\"__{row['start']}__{row['end']}.wav\"\n",
    "    start = int(1000*row[\"start\"])\n",
    "    end = int(1000*row[\"end\"])\n",
    "    outpath = str(tempdir/filename)\n",
    "    filenames.append(outpath)\n",
    "    audio[start:end].export(outpath, format=\"wav\")\n",
    "diarization_df[\"path\"] = filenames\n",
    "\n",
    "\n",
    "from utils import process_nemo, process_whisper\n",
    "\n",
    "files = diarization_df.path.tolist()\n",
    "diarization_df[\"nemo\"] = process_nemo(files)\n",
    "diarization_df[\"whisper\"] = process_whisper(files)\n",
    "for i in tempdir.glob(\"*.wav\"):\n",
    "    i.unlink()\n",
    "tempdir.rmdir()\n"
   ]
  },
  {
   "cell_type": "code",
   "execution_count": null,
   "metadata": {},
   "outputs": [],
   "source": [
    "diarization_df"
   ]
  },
  {
   "cell_type": "code",
   "execution_count": null,
   "metadata": {},
   "outputs": [],
   "source": [
    "diarization_df.to_csv(f\"data/asr/{idx}_diarization_nemo_whisper.csv\", )"
   ]
  },
  {
   "cell_type": "code",
   "execution_count": null,
   "metadata": {},
   "outputs": [],
   "source": []
  }
 ],
 "metadata": {
  "kernelspec": {
   "display_name": "base",
   "language": "python",
   "name": "python3"
  },
  "language_info": {
   "codemirror_mode": {
    "name": "ipython",
    "version": 3
   },
   "file_extension": ".py",
   "mimetype": "text/x-python",
   "name": "python",
   "nbconvert_exporter": "python",
   "pygments_lexer": "ipython3",
   "version": "3.11.6"
  }
 },
 "nbformat": 4,
 "nbformat_minor": 2
}
