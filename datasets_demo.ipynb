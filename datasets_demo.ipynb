{
 "cells": [
  {
   "cell_type": "code",
   "execution_count": 1,
   "metadata": {},
   "outputs": [
    {
     "name": "stderr",
     "output_type": "stream",
     "text": [
      "Special tokens have been added in the vocabulary, make sure the associated word embeddings are fine-tuned or trained.\n"
     ]
    }
   ],
   "source": [
    "from datasets import load_dataset, DatasetDict\n",
    "from os import environ\n",
    "environ[\"HF_DATASETS_CACHE\"] = \"/cache/peterr/HFCache\"\n",
    "environ[\"CUDA_VISIBLE_DEVICES\"] = \"1\"\n",
    "\n",
    "ds = load_dataset(\n",
    "    \"5roop/ParlaSpeech-HR\", split=\"test\", streaming=\"True\"\n",
    ")\n",
    "# We will only take the first 10 items here\n",
    "first_ten = ds.take(10)\n",
    "\n",
    "\n",
    "# This part converts IterableDataset to ordinary dataset:\n",
    "from functools import partial\n",
    "from datasets import Dataset\n",
    "def gen_from_iterable_dataset(iterable_ds):\n",
    "    yield from iterable_ds\n",
    "ds = Dataset.from_generator(partial(gen_from_iterable_dataset, first_ten), features=first_ten.features)\n",
    "\n",
    "# The rest is just how I transcribe\n",
    "# Note that we need to transform the dataset to a KeyDataset with key being 'audio' column\n",
    "import torch\n",
    "from transformers import AutoModelForSpeechSeq2Seq, AutoProcessor, pipeline\n",
    "from pathlib import Path\n",
    "\n",
    "device = torch.device(\"cuda\" if torch.cuda.is_available() else \"cpu\")\n",
    "torch_dtype = torch.float16 if torch.cuda.is_available() else torch.float32\n",
    "model_id = \"openai/whisper-large-v3\"\n",
    "try:\n",
    "    model = AutoModelForSpeechSeq2Seq.from_pretrained(\n",
    "        model_id,\n",
    "        torch_dtype=torch_dtype,\n",
    "        low_cpu_mem_usage=True,\n",
    "        use_safetensors=True,\n",
    "    )\n",
    "except:\n",
    "    model = AutoModelForSpeechSeq2Seq.from_pretrained(\n",
    "        model_id,\n",
    "        torch_dtype=torch_dtype,\n",
    "        low_cpu_mem_usage=True,\n",
    "        use_safetensors=False,\n",
    "    )\n",
    "model.to(device)\n",
    "processor = AutoProcessor.from_pretrained(model_id)\n",
    "pipe = pipeline(\n",
    "    \"automatic-speech-recognition\",\n",
    "    model=model,\n",
    "    tokenizer=processor.tokenizer,\n",
    "    feature_extractor=processor.feature_extractor,\n",
    "    max_new_tokens=128,\n",
    "    chunk_length_s=30,\n",
    "    batch_size=16,\n",
    "    return_timestamps=True,\n",
    "    torch_dtype=torch_dtype,\n",
    "    device=device,\n",
    ")\n",
    "\n",
    "\n",
    "from transformers.pipelines.pt_utils import KeyDataset\n",
    "result = pipe(\n",
    "    KeyDataset(ds, \"audio\"),\n",
    "    generate_kwargs={\"language\": \"croatian\"},\n",
    ")\n",
    "transcripts = [i.get(\"text\") for i in result]\n"
   ]
  },
  {
   "cell_type": "code",
   "execution_count": 2,
   "metadata": {},
   "outputs": [
    {
     "data": {
      "text/plain": [
       "[' ali definitivno predstavljaju dio rješenja i Republika Hrvatska je u jednoj prednosti u odnosu na neke druge zemlje u Srednjoj Evropi i na Zapadu i na Istoku zato što ima 25% društvenog bruto proizvoda u mirovinskim fondovima što nas već sad obilježava kao srednje razvijenu zemlju što',\n",
       " ' mu je iznosila oko 24,5 milijarde kuna i u fondu je bilo 532 tisuće članova koncem godine. Prinos koji je ostvaren u 2016. godini je 7,31%, a od početka rada,',\n",
       " ' Glede same državne komisije treba istaknuti da temelju činkovitosti rada državne komisije predstavlja stalnost ljudskih resursa na stručnim poslovima visoke složenosti, koja omogućava razvoj stručnosti i znanja, a što dovodi do skraćivanja rokova odlučivanja, veće efikasnosti i kvalitete odluka. Državna komisija kao hvazi sudbeno tijelo i autoritetu',\n",
       " ' Ključno je obrazovanje i mislim da je važno i ovdje istaknuti da je Ministarstvo obrazovanja za školsku godinu 2017-2018 osiguralo 2317 pomoćnika u nastavi koji pružaju uslugu za 2670 učenika s teškoćama',\n",
       " ' na tim projektima i moćemo ići u nova istraživanja eksploatacije nafta i plina kako u Hrvatskoj, tako i u inozemstvu. I to će osigurati i generirati stabilnost i cijena i dobavu. Znači, prvi korak je ina i poratak u hrvatsko lasništvo.',\n",
       " ' Kao što je kolega prethodno napomenuo, ovdje se radi isključivo o radnim tvarima, o rasladnoj tehnici, protupožarnim uređajima i postoje više čimbenika koje ne čišću okoliš, a ovdje smo se fokusirali na ove koje su',\n",
       " ' osnovani po hrvatskom zakonodavstvu, rade u njima, hrvati odgovaraju hrvatskoj regulatornoj instituciji itd. Nema potrebe da nabrajam zemlje koje imaju ovaj ili onaj oblik obvezne mirovinske štednje, ima ih najmanje 20 u Evropi i one koje',\n",
       " ' biti podložno provjeri, a isto tako trebalo bi osiguravati jednake prilike svima. Tako da apeliramo još jednom ovim putem prema hrvatskoj javnosti da je ova obrazovna reforma izuzetno nepripremljena, da djeci ne garantira jednake prilike i da ćemo biti izloženi',\n",
       " ' energetskih politika koja će energetika biti u službi gospodarstva i građana, a ne sama sebi svrha kao što je do sada bilo kad su se gradili razni',\n",
       " ' dovoljnu povijest da bi bila signifikantna i reprezentativna. Imamo jako dobre prinose i u fondovima A i u fondovima C, međutim, oni traju kraće pa to možda još nije reprezentativno, treba pričekati da prođe određeni broj godina.']"
      ]
     },
     "execution_count": 2,
     "metadata": {},
     "output_type": "execute_result"
    }
   ],
   "source": [
    "transcripts"
   ]
  },
  {
   "cell_type": "code",
   "execution_count": 3,
   "metadata": {},
   "outputs": [
    {
     "data": {
      "text/plain": [
       "['ali definitivno predstavljaju dio rješenja i RH, je u jednoj prednosti u odnosu na neke druge zemlje u srednjoj Europi i na zapadu i na istoku zato što ima 25% društvenog bruto proizvoda u mirovinskim fondovima što nas već sad obilježava kao srednje razvijenu zemlju što',\n",
       " 'mu je iznosila oko 24 i pol milijarde kuna i u fondu je bilo 532 tisuće članova koncem godine. Prinos koji je ostvaren u 2016. godini je 7,_31%,a od početka rada,',\n",
       " 'Glede same državne komisije treba istaknuti da temelj učinkovitosti rada državne komisije predstavlja stalnost ljudskih resursa na stručnim poslovima visoke složenosti koja omogućava razvoj stručnosti i znanja, a što dovodi do skraćivanja rokova odlučivanja, veće efikasnosti i kvalitete odluka. Državna komisija kao kvazi sudbeno tijelo i autoritet u',\n",
       " 'ključno jest obrazovanje i mislim da je važno i ovdje istaknuti da je Ministarstvo obrazovanja za školsku godinu 2017., 2018. osiguralo 2317 pomoćnika u nastavi koji pružaju uslugu za 2670 učenika s teškoćama u',\n",
       " 'na tim projektima i moći ćemo ići u nova istraživanja, eksploatacije nafte i plina kako u Hrvatskoj, tako i u inozemstvu i to će osigurati i generirati stabilnost i cijena i dobavu. Znači prvi korak je INA i povratak u hrvatsko vlasništvo.',\n",
       " 'kao što je kolega prethodno napomenuo ovdje se radi isključivo o radnim tvarima u rashladnoj tehnici, protupožarnim uređajima i postoji više čimbenika koji onečišćuju okoliš, a ovdje smo se fokusirali na ove koji su',\n",
       " 'osnovani po hrvatskom zakonodavstvu, rade u njima Hrvati, odgovaraju hrvatskoj regulatornoj instituciji itd., itd.. Nema potrebe da nabrajam zemlje koje imaju ovaj ili onaj oblik obvezne mirovinske štednje, ima ih najmanje 20-ak u Europi i one koje',\n",
       " 'biti podložno provjeri, a isto tako trebalo bi osiguravati jednake prilike svima. Tako da apeliramo još jednom, ovim putem prema hrvatskoj javnosti, da je ova obrazovna reforma izuzetno nepripremljena, da djeci ne garantira jednake prilike i da ćemo biti izloženi,',\n",
       " 'energetskih politika koja će energetika biti u službi gospodarstva i građana, a ne sama sebi svrha kao što je do sada bilo kad su se gradili razni',\n",
       " 'dovoljnu povijest da bi bila signifikantna i reprezentativna. Imamo jako dobre prinose i u fondovima A i u fondovima C međutim oni traju kraće pa to možda još nije reprezentativno, treba pričekati da prođe određeni broj godina.']"
      ]
     },
     "execution_count": 3,
     "metadata": {},
     "output_type": "execute_result"
    }
   ],
   "source": [
    "ds[\"transcript\"] # This is the original non-normalised transcript"
   ]
  },
  {
   "cell_type": "code",
   "execution_count": 21,
   "metadata": {},
   "outputs": [],
   "source": [
    "from datasets import load_dataset, DatasetDict\n",
    "from os import environ\n",
    "environ[\"HF_DATASETS_CACHE\"] = \"/cache/peterr/HFCache\"\n",
    "environ[\"CUDA_VISIBLE_DEVICES\"] = \"1\"\n",
    "\n",
    "from functools import partial\n",
    "from datasets import Dataset\n",
    "def gen_from_iterable_dataset(iterable_ds):\n",
    "    yield from iterable_ds\n",
    "    \n",
    "ds = load_dataset(\n",
    "    \"5roop/ParlaSpeech-HR\", split=\"test\", streaming=\"True\"\n",
    ")\n",
    "CHUNKSIZE = 100\n",
    "STARTINDEX = 0\n",
    "texts = []\n",
    "asr_results = []\n",
    "while True:\n",
    "    chunk = ds.skip(STARTINDEX).take(CHUNKSIZE)\n",
    "    if list(chunk) == []:\n",
    "        break\n",
    "    chunk = Dataset.from_generator(partial(gen_from_iterable_dataset, chunk), features=chunk.features)\n",
    "    texts.extend(chunk[\"transcript\"])\n",
    "    asr_results_for_this_chunk = [\"Generate\", \"This\", \"List\", \"with\", \"Your\", \"Model\", ...]\n",
    "    asr_results.extend(asr_results_for_this_chunk)\n",
    "    \n",
    "    # In the next step we will have to skip more instances to move our chunk forward:\n",
    "    STARTINDEX += CHUNKSIZE\n",
    "    break"
   ]
  },
  {
   "cell_type": "code",
   "execution_count": null,
   "metadata": {},
   "outputs": [],
   "source": []
  }
 ],
 "metadata": {
  "kernelspec": {
   "display_name": "base",
   "language": "python",
   "name": "python3"
  },
  "language_info": {
   "codemirror_mode": {
    "name": "ipython",
    "version": 3
   },
   "file_extension": ".py",
   "mimetype": "text/x-python",
   "name": "python",
   "nbconvert_exporter": "python",
   "pygments_lexer": "ipython3",
   "version": "3.11.6"
  }
 },
 "nbformat": 4,
 "nbformat_minor": 2
}
